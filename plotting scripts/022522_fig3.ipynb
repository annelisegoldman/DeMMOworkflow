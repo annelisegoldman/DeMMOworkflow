{
 "cells": [
  {
   "cell_type": "code",
   "execution_count": 252,
   "metadata": {},
   "outputs": [],
   "source": [
    "# Goal: plot HK abudance by taxon\n",
    "\n",
    "# import relevant packages, etc.\n",
    "import pandas as pd\n",
    "import seaborn as sns\n",
    "import matplotlib.pyplot as pp\n",
    "import numpy as np\n",
    "from axes_style import set_axes_style, set_axes_height\n",
    "\n",
    "\n",
    "# set standard axes styles\n",
    "set_axes_style()\n",
    "figWidth = 5\n",
    "figHeight = 3\n",
    "\n",
    "axes_height = 1.5\n",
    "\n",
    "#save lists of colors\n",
    "colors = ['#ed7e7e', '#f5e17f', '#6a9fe6', '#8decfc', '#63a68d', '#ce90f0', '#f5ab62', '#fa41a1', '#ce90f0', '#06c961',\n",
    "         '#95c5db', '#abf5bd', '#e069c1', '#06c961', '#8decfc', '#f5e17f', '#8decfc', '#06c961', '#3980fa', '#95c5db',\n",
    "         '#f5e17f', '#95c5db']\n",
    "gray_scale = ['#b9b9c4', '#b9b9c4', '#b9b9c4', '#b9b9c4', '#b9b9c4', '#b9b9c4', '#b9b9c4', '#b9b9c4', '#b9b9c4',\n",
    "              '#b9b9c4', '#b9b9c4', '#b9b9c4', '#b9b9c4', '#b9b9c4', '#b9b9c4', '#b9b9c4', '#b9b9c4', '#b9b9c4',\n",
    "              '#b9b9c4', '#b9b9c4', '#b9b9c4', '#b9b9c4']"
   ]
  },
  {
   "cell_type": "code",
   "execution_count": 267,
   "outputs": [],
   "source": [
    "def calculate_metrics(taxa_list,data_df,taxon):\n",
    "    '''Calculates max, min, mean, and range of HK frequency in a specified taxonomic level'''\n",
    "\n",
    "    metrics_df = pd.DataFrame(index = taxa_list)\n",
    "\n",
    "    for i in taxa_list:\n",
    "        metrics_df.at[i,\"# of MAGs\"] = data_df[taxon].value_counts(dropna=True)[i]\n",
    "        metrics_df.at[i,\"Mean HK_per_100_genes\"] = np.mean(data_df[\"HK_per_100_genes\"][data_df[str(taxon)]==i])\n",
    "        metrics_df.at[i,\"Max HK_per_100_genes\"] = np.max(data_df[\"HK_per_100_genes\"][data_df[str(taxon)]==i])\n",
    "        metrics_df.at[i,\"Min HK_per_100_genes\"] = np.min(data_df[\"HK_per_100_genes\"][data_df[str(taxon)]==i])\n",
    "\n",
    "    metrics_df[\"Range HK_per_100_genes\"] = metrics_df[\"Max HK_per_100_genes\"] - metrics_df[\"Min HK_per_100_genes\"]\n",
    "\n",
    "    return metrics_df"
   ],
   "metadata": {
    "collapsed": false,
    "pycharm": {
     "name": "#%%\n"
    }
   }
  },
  {
   "cell_type": "code",
   "execution_count": 254,
   "metadata": {},
   "outputs": [],
   "source": [
    "# Import data\n",
    "df1 = pd.read_csv(\"/Users/emilyfulk/Desktop/DeMMO data/022522_fig3.csv\")"
   ]
  },
  {
   "cell_type": "code",
   "execution_count": 255,
   "metadata": {},
   "outputs": [
    {
     "data": {
      "text/plain": "<Figure size 143.046x143.046 with 1 Axes>",
      "image/png": "[encoded data removed]"
     },
     "metadata": {
      "needs_background": "light"
     },
     "output_type": "display_data"
    }
   ],
   "source": [
    "# make violin plot for CPR vs Archaea vs General HKs using Seaborn package \n",
    "# scale = count means that the width of the violins is scaled to how many sequences are found at each site/violin\n",
    "# cut = 0 means that the range of the violin is the range of the observed data (not extending the probability density)\n",
    "\n",
    "figA = pp.figure(figsize=(3, 3))\n",
    "ax_HK = pp.subplot(1,1,1)\n",
    "\n",
    "ax_HK = sns.violinplot(y=\"HK_per_100_genes\", x=\"type\", data=df1, palette=['#696969','#DCDCDC','#FFFFFF'], cut=0)\n",
    "\n",
    "# set the x axis to cut off at 0\n",
    "ax_HK.set_ylim(0,5)\n",
    "\n",
    "# label y axis\n",
    "ax_HK.set_ylabel(\"HKs per 100 genes\")\n",
    "\n",
    "# set xtick labels\n",
    "locs = ax_HK.get_xticks()\n",
    "ax_HK.set_xticks(locs,labels=['Archaea','CPR Bacteria','Non-CPR Bacteria'],rotation=45)\n",
    "\n",
    "# remove the right and top borders (but not the axes)\n",
    "ax_HK.spines['right'].set_visible(False)\n",
    "ax_HK.spines['top'].set_visible(False)\n",
    "\n",
    "# Set axes style\n",
    "set_axes_height(ax_HK,axes_height)\n",
    "\n",
    "# Export image as svg\n",
    "fileouta = 'all_violin.svg'\n",
    "#pp.savefig(fileouta, bbox_inches=\"tight\")"
   ]
  },
  {
   "cell_type": "code",
   "execution_count": 268,
   "metadata": {
    "scrolled": false
   },
   "outputs": [
    {
     "data": {
      "text/plain": "    site  genome  HK_count  gene_count  HK_per_100_genes type    domain  \\\n145   D1       1        69        6215            1.1102  gen  Bacteria   \n146   D1       2        28        2992            0.9358  gen  Bacteria   \n147   D1       3        17        2823            0.6022  gen  Bacteria   \n148   D1       4        44        2946            1.4936  gen  Bacteria   \n149   D1       5        36        5052            0.7126  gen  Bacteria   \n..   ...     ...       ...         ...               ...  ...       ...   \n576   WC      55         4         515            0.7767  gen  Bacteria   \n577   WC      56         9         445            2.0225  gen  Bacteria   \n578   WC      58        11         966            1.1387  gen  Bacteria   \n579   WC      59         4         703            0.5690  gen  Bacteria   \n580   WC      60         6         950            0.6316  gen  Bacteria   \n\n                phylum                class  \n145     Proteobacteria  Gammaproteobacteria  \n146     Proteobacteria  Gammaproteobacteria  \n147  Verrucomicrobiota        Lentisphaeria  \n148     Proteobacteria  Gammaproteobacteria  \n149     Proteobacteria  Alphaproteobacteria  \n..                 ...                  ...  \n576       Omnitrophota          Omnitrophia  \n577     Proteobacteria  Gammaproteobacteria  \n578     Proteobacteria  Gammaproteobacteria  \n579     Proteobacteria  Gammaproteobacteria  \n580       Bacteroidota          Bacteroidia  \n\n[409 rows x 9 columns]",
      "text/html": "<div>\n<style scoped>\n    .dataframe tbody tr th:only-of-type {\n        vertical-align: middle;\n    }\n\n    .dataframe tbody tr th {\n        vertical-align: top;\n    }\n\n    .dataframe thead th {\n        text-align: right;\n    }\n</style>\n<table border=\"1\" class=\"dataframe\">\n  <thead>\n    <tr style=\"text-align: right;\">\n      <th></th>\n      <th>site</th>\n      <th>genome</th>\n      <th>HK_count</th>\n      <th>gene_count</th>\n      <th>HK_per_100_genes</th>\n      <th>type</th>\n      <th>domain</th>\n      <th>phylum</th>\n      <th>class</th>\n    </tr>\n  </thead>\n  <tbody>\n    <tr>\n      <th>145</th>\n      <td>D1</td>\n      <td>1</td>\n      <td>69</td>\n      <td>6215</td>\n      <td>1.1102</td>\n      <td>gen</td>\n      <td>Bacteria</td>\n      <td>Proteobacteria</td>\n      <td>Gammaproteobacteria</td>\n    </tr>\n    <tr>\n      <th>146</th>\n      <td>D1</td>\n      <td>2</td>\n      <td>28</td>\n      <td>2992</td>\n      <td>0.9358</td>\n      <td>gen</td>\n      <td>Bacteria</td>\n      <td>Proteobacteria</td>\n      <td>Gammaproteobacteria</td>\n    </tr>\n    <tr>\n      <th>147</th>\n      <td>D1</td>\n      <td>3</td>\n      <td>17</td>\n      <td>2823</td>\n      <td>0.6022</td>\n      <td>gen</td>\n      <td>Bacteria</td>\n      <td>Verrucomicrobiota</td>\n      <td>Lentisphaeria</td>\n    </tr>\n    <tr>\n      <th>148</th>\n      <td>D1</td>\n      <td>4</td>\n      <td>44</td>\n      <td>2946</td>\n      <td>1.4936</td>\n      <td>gen</td>\n      <td>Bacteria</td>\n      <td>Proteobacteria</td>\n      <td>Gammaproteobacteria</td>\n    </tr>\n    <tr>\n      <th>149</th>\n      <td>D1</td>\n      <td>5</td>\n      <td>36</td>\n      <td>5052</td>\n      <td>0.7126</td>\n      <td>gen</td>\n      <td>Bacteria</td>\n      <td>Proteobacteria</td>\n      <td>Alphaproteobacteria</td>\n    </tr>\n    <tr>\n      <th>...</th>\n      <td>...</td>\n      <td>...</td>\n      <td>...</td>\n      <td>...</td>\n      <td>...</td>\n      <td>...</td>\n      <td>...</td>\n      <td>...</td>\n      <td>...</td>\n    </tr>\n    <tr>\n      <th>576</th>\n      <td>WC</td>\n      <td>55</td>\n      <td>4</td>\n      <td>515</td>\n      <td>0.7767</td>\n      <td>gen</td>\n      <td>Bacteria</td>\n      <td>Omnitrophota</td>\n      <td>Omnitrophia</td>\n    </tr>\n    <tr>\n      <th>577</th>\n      <td>WC</td>\n      <td>56</td>\n      <td>9</td>\n      <td>445</td>\n      <td>2.0225</td>\n      <td>gen</td>\n      <td>Bacteria</td>\n      <td>Proteobacteria</td>\n      <td>Gammaproteobacteria</td>\n    </tr>\n    <tr>\n      <th>578</th>\n      <td>WC</td>\n      <td>58</td>\n      <td>11</td>\n      <td>966</td>\n      <td>1.1387</td>\n      <td>gen</td>\n      <td>Bacteria</td>\n      <td>Proteobacteria</td>\n      <td>Gammaproteobacteria</td>\n    </tr>\n    <tr>\n      <th>579</th>\n      <td>WC</td>\n      <td>59</td>\n      <td>4</td>\n      <td>703</td>\n      <td>0.5690</td>\n      <td>gen</td>\n      <td>Bacteria</td>\n      <td>Proteobacteria</td>\n      <td>Gammaproteobacteria</td>\n    </tr>\n    <tr>\n      <th>580</th>\n      <td>WC</td>\n      <td>60</td>\n      <td>6</td>\n      <td>950</td>\n      <td>0.6316</td>\n      <td>gen</td>\n      <td>Bacteria</td>\n      <td>Bacteroidota</td>\n      <td>Bacteroidia</td>\n    </tr>\n  </tbody>\n</table>\n<p>409 rows × 9 columns</p>\n</div>"
     },
     "execution_count": 268,
     "metadata": {},
     "output_type": "execute_result"
    }
   ],
   "source": [
    "## Parse data\n",
    "gen = df1[df1[\"type\"] ==\"gen\"]\n",
    "\n",
    "\n",
    "# trim the number of phyla shown in the plot so it's not as overwhelming.\n",
    "# Include phyla only if their relative percentage is 0.5% or higher\n",
    "\n",
    "#calculate relative percentages for all general phyla \n",
    "perc = gen[\"phylum\"].value_counts(normalize = True)\n",
    "\n",
    "#make the percentages into a dataframe and make a list of phyla > 0.5%\n",
    "gen_perc = pd.DataFrame(data = perc)\n",
    "gen_perc = gen_perc.reset_index()\n",
    "gen_perc = gen_perc.rename(columns={\"index\": \"phylum\", \"phylum\": \"rel_perc\"})\n",
    "trimmed = gen_perc[gen_perc[\"rel_perc\"] > 0.005]\n",
    "trimmed_list = trimmed[\"phylum\"].tolist()\n",
    "\n",
    "# make new dataframe of phyla > 0.5% with all the relevant information\n",
    "gen_red = gen[gen[\"phylum\"].isin(trimmed_list)]\n",
    "\n",
    "gen_red"
   ]
  },
  {
   "cell_type": "code",
   "execution_count": 265,
   "outputs": [
    {
     "name": "stdout",
     "output_type": "stream",
     "text": [
      "% bacteria without HKs: 2.7522935779816518\n"
     ]
    },
    {
     "data": {
      "text/plain": "                   # of MAGs  Mean HK_per_100_genes  Max HK_per_100_genes  \\\nOmnitrophota            36.0               0.550997                1.2680   \nUBA9089                  5.0               0.583440                1.3652   \nElusimicrobiota          6.0               0.991600                1.7900   \nFirmicutes_E            10.0               0.406940                0.6391   \nBacteroidota            40.0               1.159035                2.9319   \nGemmatimonadota          3.0               0.860300                0.9085   \nAcidobacteriota          4.0               0.690825                1.1140   \nFirmicutes_D             4.0               0.529025                0.7255   \nFirmicutes_B             7.0               0.812371                0.9980   \nDesulfobacterota        49.0               1.704439                4.3767   \nCyanobacteriota          9.0               1.094889                1.5170   \nPlanctomycetota         23.0               0.747222                1.4307   \nActinobacteriota        16.0               0.793012                2.5316   \nVerrucomicrobiota       13.0               0.412738                1.0494   \nNitrospirota            21.0               1.398167                2.6693   \nDependentiae             9.0               0.026756                0.1567   \nUBA10199                 3.0               0.923433                1.2255   \nUBP1                     3.0               1.032033                1.1696   \nZixibacteria            10.0               1.223410                1.5845   \nChloroflexota           32.0               1.204931                1.8868   \nMBNT15                   5.0               1.495180                1.8821   \nProteobacteria         101.0               0.767877                2.0225   \n\n                   Min HK_per_100_genes  Range HK_per_100_genes  \nOmnitrophota                     0.0000                  1.2680  \nUBA9089                          0.2888                  1.0764  \nElusimicrobiota                  0.0000                  1.7900  \nFirmicutes_E                     0.2586                  0.3805  \nBacteroidota                     0.0668                  2.8651  \nGemmatimonadota                  0.7934                  0.1151  \nAcidobacteriota                  0.4353                  0.6787  \nFirmicutes_D                     0.2890                  0.4365  \nFirmicutes_B                     0.6141                  0.3839  \nDesulfobacterota                 0.6543                  3.7224  \nCyanobacteriota                  0.7206                  0.7964  \nPlanctomycetota                  0.3089                  1.1218  \nActinobacteriota                 0.1488                  2.3828  \nVerrucomicrobiota                0.0563                  0.9931  \nNitrospirota                     0.7027                  1.9666  \nDependentiae                     0.0000                  0.1567  \nUBA10199                         0.3333                  0.8922  \nUBP1                             0.9259                  0.2437  \nZixibacteria                     0.8884                  0.6961  \nChloroflexota                    0.2564                  1.6304  \nMBNT15                           0.6541                  1.2280  \nProteobacteria                   0.0000                  2.0225  ",
      "text/html": "<div>\n<style scoped>\n    .dataframe tbody tr th:only-of-type {\n        vertical-align: middle;\n    }\n\n    .dataframe tbody tr th {\n        vertical-align: top;\n    }\n\n    .dataframe thead th {\n        text-align: right;\n    }\n</style>\n<table border=\"1\" class=\"dataframe\">\n  <thead>\n    <tr style=\"text-align: right;\">\n      <th></th>\n      <th># of MAGs</th>\n      <th>Mean HK_per_100_genes</th>\n      <th>Max HK_per_100_genes</th>\n      <th>Min HK_per_100_genes</th>\n      <th>Range HK_per_100_genes</th>\n    </tr>\n  </thead>\n  <tbody>\n    <tr>\n      <th>Omnitrophota</th>\n      <td>36.0</td>\n      <td>0.550997</td>\n      <td>1.2680</td>\n      <td>0.0000</td>\n      <td>1.2680</td>\n    </tr>\n    <tr>\n      <th>UBA9089</th>\n      <td>5.0</td>\n      <td>0.583440</td>\n      <td>1.3652</td>\n      <td>0.2888</td>\n      <td>1.0764</td>\n    </tr>\n    <tr>\n      <th>Elusimicrobiota</th>\n      <td>6.0</td>\n      <td>0.991600</td>\n      <td>1.7900</td>\n      <td>0.0000</td>\n      <td>1.7900</td>\n    </tr>\n    <tr>\n      <th>Firmicutes_E</th>\n      <td>10.0</td>\n      <td>0.406940</td>\n      <td>0.6391</td>\n      <td>0.2586</td>\n      <td>0.3805</td>\n    </tr>\n    <tr>\n      <th>Bacteroidota</th>\n      <td>40.0</td>\n      <td>1.159035</td>\n      <td>2.9319</td>\n      <td>0.0668</td>\n      <td>2.8651</td>\n    </tr>\n    <tr>\n      <th>Gemmatimonadota</th>\n      <td>3.0</td>\n      <td>0.860300</td>\n      <td>0.9085</td>\n      <td>0.7934</td>\n      <td>0.1151</td>\n    </tr>\n    <tr>\n      <th>Acidobacteriota</th>\n      <td>4.0</td>\n      <td>0.690825</td>\n      <td>1.1140</td>\n      <td>0.4353</td>\n      <td>0.6787</td>\n    </tr>\n    <tr>\n      <th>Firmicutes_D</th>\n      <td>4.0</td>\n      <td>0.529025</td>\n      <td>0.7255</td>\n      <td>0.2890</td>\n      <td>0.4365</td>\n    </tr>\n    <tr>\n      <th>Firmicutes_B</th>\n      <td>7.0</td>\n      <td>0.812371</td>\n      <td>0.9980</td>\n      <td>0.6141</td>\n      <td>0.3839</td>\n    </tr>\n    <tr>\n      <th>Desulfobacterota</th>\n      <td>49.0</td>\n      <td>1.704439</td>\n      <td>4.3767</td>\n      <td>0.6543</td>\n      <td>3.7224</td>\n    </tr>\n    <tr>\n      <th>Cyanobacteriota</th>\n      <td>9.0</td>\n      <td>1.094889</td>\n      <td>1.5170</td>\n      <td>0.7206</td>\n      <td>0.7964</td>\n    </tr>\n    <tr>\n      <th>Planctomycetota</th>\n      <td>23.0</td>\n      <td>0.747222</td>\n      <td>1.4307</td>\n      <td>0.3089</td>\n      <td>1.1218</td>\n    </tr>\n    <tr>\n      <th>Actinobacteriota</th>\n      <td>16.0</td>\n      <td>0.793012</td>\n      <td>2.5316</td>\n      <td>0.1488</td>\n      <td>2.3828</td>\n    </tr>\n    <tr>\n      <th>Verrucomicrobiota</th>\n      <td>13.0</td>\n      <td>0.412738</td>\n      <td>1.0494</td>\n      <td>0.0563</td>\n      <td>0.9931</td>\n    </tr>\n    <tr>\n      <th>Nitrospirota</th>\n      <td>21.0</td>\n      <td>1.398167</td>\n      <td>2.6693</td>\n      <td>0.7027</td>\n      <td>1.9666</td>\n    </tr>\n    <tr>\n      <th>Dependentiae</th>\n      <td>9.0</td>\n      <td>0.026756</td>\n      <td>0.1567</td>\n      <td>0.0000</td>\n      <td>0.1567</td>\n    </tr>\n    <tr>\n      <th>UBA10199</th>\n      <td>3.0</td>\n      <td>0.923433</td>\n      <td>1.2255</td>\n      <td>0.3333</td>\n      <td>0.8922</td>\n    </tr>\n    <tr>\n      <th>UBP1</th>\n      <td>3.0</td>\n      <td>1.032033</td>\n      <td>1.1696</td>\n      <td>0.9259</td>\n      <td>0.2437</td>\n    </tr>\n    <tr>\n      <th>Zixibacteria</th>\n      <td>10.0</td>\n      <td>1.223410</td>\n      <td>1.5845</td>\n      <td>0.8884</td>\n      <td>0.6961</td>\n    </tr>\n    <tr>\n      <th>Chloroflexota</th>\n      <td>32.0</td>\n      <td>1.204931</td>\n      <td>1.8868</td>\n      <td>0.2564</td>\n      <td>1.6304</td>\n    </tr>\n    <tr>\n      <th>MBNT15</th>\n      <td>5.0</td>\n      <td>1.495180</td>\n      <td>1.8821</td>\n      <td>0.6541</td>\n      <td>1.2280</td>\n    </tr>\n    <tr>\n      <th>Proteobacteria</th>\n      <td>101.0</td>\n      <td>0.767877</td>\n      <td>2.0225</td>\n      <td>0.0000</td>\n      <td>2.0225</td>\n    </tr>\n  </tbody>\n</table>\n</div>"
     },
     "execution_count": 265,
     "metadata": {},
     "output_type": "execute_result"
    }
   ],
   "source": [
    "## Calculate states for non-CPR bacteria\n",
    "# calculate % of bacteria with no HKs\n",
    "bacteria_no_HKs = len(gen[gen[\"HK_count\"]==0])\n",
    "all_bacteria = 436\n",
    "bacteria_perc_no_HKs = (bacteria_no_HKs/all_bacteria)*100\n",
    "print('% bacteria without HKs:',bacteria_perc_no_HKs)\n",
    "\n",
    "# Calculate interquartile range (IQR) of all HK frequencies identified in general bacteria\n",
    "Q1 = np.percentile(gen[\"HK_per_100_genes\"], 25)\n",
    "Q3 = np.percentile(gen[\"HK_per_100_genes\"], 75)\n",
    "\n",
    "IQR = Q3 - Q1\n",
    "high_outlier_cutoff = Q3 + (1.5*IQR)\n",
    "low_outlier_cutoff = Q1 - (1.5*IQR)\n",
    "\n",
    "\n",
    "# Find phyla with HK frequencies below 1.5*interquartile range (low outliers)\n",
    "low_outlier_phyla = gen[gen[\"HK_per_100_genes\"]<low_outlier_cutoff]\n",
    "\n",
    "# Find phyla with HK frequencies below 1.5*interquartile range (low outliers)\n",
    "high_outlier_phyla = gen[gen[\"HK_per_100_genes\"]>high_outlier_cutoff]\n",
    "\n",
    "\n",
    "# find distribution with highest and lowest mean HK frequencies\n",
    "gen_phyla = list(set(gen_red[\"phylum\"]))\n",
    "\n",
    "gen_red_stats = calculate_metrics(gen_phyla,gen_red,\"phylum\")\n",
    "gen_red_stats\n",
    "#print(\"Min mean:\",gen_red_stats.idxmin(axis=0),gen_red_stats.min(axis=0))\n",
    "#print(\"Max mean:\",gen_red_stats.idxmax(axis=0),gen_red_stats.max(axis=0))"
   ],
   "metadata": {
    "collapsed": false,
    "pycharm": {
     "name": "#%%\n"
    }
   }
  },
  {
   "cell_type": "code",
   "execution_count": 258,
   "metadata": {
    "scrolled": false
   },
   "outputs": [
    {
     "data": {
      "text/plain": "<Figure size 333.775x143.046 with 1 Axes>",
      "image/png": "[encoded data removed]"
     },
     "metadata": {
      "needs_background": "light"
     },
     "output_type": "display_data"
    }
   ],
   "source": [
    "# make box plot for non-CPR bacteria\n",
    "\n",
    "figB = pp.figure(figsize=(7, 3))\n",
    "ax_HK3 = pp.subplot(1,1,1)\n",
    "\n",
    "# save list of phyla\n",
    "phyla_order=[\"Proteobacteria\", \"Desulfobacterota\",\"Bacteroidota\",\"Omnitrophota\",\"Chloroflexota\",\n",
    "                           \"Planctomycetota\",\"Nitrospirota\",\"Actinobacteriota\",\"Verrucomicrobiota\",\"Firmicutes_E\",\n",
    "                           \"Zixibacteria\",\"Cyanobacteriota\",\"Dependentiae\",\"Firmicutes_B\",\"Elusimicrobiota\",\"MBNT15\",\n",
    "                           \"UBA9089\",\"Firmicutes_D\",\"Acidobacteriota\",\"Gemmatimonadota\",\"UBA10199\",\"UBP1\"]\n",
    "\n",
    "ax_HK3 = sns.boxplot(y=\"HK_per_100_genes\", x=\"phylum\", data=gen_red,\n",
    "                     order=phyla_order, palette = gray_scale,\n",
    "                    flierprops = dict(marker = 'o', markersize = 3))\n",
    "            \n",
    "# set the y axis limits\n",
    "ax_HK3.set_ylim(0,5)\n",
    "\n",
    "# label axes if not labeled already\n",
    "ax_HK3.set_ylabel(\"HKs per 100 genes\")\n",
    "ax_HK3.set_xlabel(\"Non-CPR Phylum\")\n",
    "\n",
    "locs = ax_HK3.get_xticks()\n",
    "ax_HK3.set_xticks(locs,labels=phyla_order,rotation=45)\n",
    "\n",
    "# remove the right and top borders (but not the axes)\n",
    "ax_HK3.spines['right'].set_visible(False)\n",
    "ax_HK3.spines['top'].set_visible(False)\n",
    "\n",
    "set_axes_height(ax_HK3,axes_height)\n",
    "fileoutb = 'bacteria_boxplot.svg'\n",
    "\n",
    "#pp.savefig(fileoutb, bbox_inches=\"tight\")"
   ]
  },
  {
   "cell_type": "code",
   "execution_count": 274,
   "metadata": {},
   "outputs": [
    {
     "data": {
      "text/plain": "                 # of MAGs  Mean HK_per_100_genes  Max HK_per_100_genes  \\\nABY1                  25.0               0.189940                0.9195   \nGracilibacteria        9.0               0.398344                0.8612   \nMicrogenomatia        18.0               0.164744                0.7338   \nKazan                  1.0               0.146600                0.1466   \nPaceibacteria         46.0               0.352928                1.1125   \nWWE3                   1.0               0.773700                0.7737   \nBerkelbacteria         3.0               0.396133                0.5382   \nDojkabacteria          1.0               0.414900                0.4149   \n\n                 Min HK_per_100_genes  Range HK_per_100_genes  \nABY1                           0.0000                  0.9195  \nGracilibacteria                0.0894                  0.7718  \nMicrogenomatia                 0.0000                  0.7338  \nKazan                          0.1466                  0.0000  \nPaceibacteria                  0.0000                  1.1125  \nWWE3                           0.7737                  0.0000  \nBerkelbacteria                 0.1145                  0.4237  \nDojkabacteria                  0.4149                  0.0000  ",
      "text/html": "<div>\n<style scoped>\n    .dataframe tbody tr th:only-of-type {\n        vertical-align: middle;\n    }\n\n    .dataframe tbody tr th {\n        vertical-align: top;\n    }\n\n    .dataframe thead th {\n        text-align: right;\n    }\n</style>\n<table border=\"1\" class=\"dataframe\">\n  <thead>\n    <tr style=\"text-align: right;\">\n      <th></th>\n      <th># of MAGs</th>\n      <th>Mean HK_per_100_genes</th>\n      <th>Max HK_per_100_genes</th>\n      <th>Min HK_per_100_genes</th>\n      <th>Range HK_per_100_genes</th>\n    </tr>\n  </thead>\n  <tbody>\n    <tr>\n      <th>ABY1</th>\n      <td>25.0</td>\n      <td>0.189940</td>\n      <td>0.9195</td>\n      <td>0.0000</td>\n      <td>0.9195</td>\n    </tr>\n    <tr>\n      <th>Gracilibacteria</th>\n      <td>9.0</td>\n      <td>0.398344</td>\n      <td>0.8612</td>\n      <td>0.0894</td>\n      <td>0.7718</td>\n    </tr>\n    <tr>\n      <th>Microgenomatia</th>\n      <td>18.0</td>\n      <td>0.164744</td>\n      <td>0.7338</td>\n      <td>0.0000</td>\n      <td>0.7338</td>\n    </tr>\n    <tr>\n      <th>Kazan</th>\n      <td>1.0</td>\n      <td>0.146600</td>\n      <td>0.1466</td>\n      <td>0.1466</td>\n      <td>0.0000</td>\n    </tr>\n    <tr>\n      <th>Paceibacteria</th>\n      <td>46.0</td>\n      <td>0.352928</td>\n      <td>1.1125</td>\n      <td>0.0000</td>\n      <td>1.1125</td>\n    </tr>\n    <tr>\n      <th>WWE3</th>\n      <td>1.0</td>\n      <td>0.773700</td>\n      <td>0.7737</td>\n      <td>0.7737</td>\n      <td>0.0000</td>\n    </tr>\n    <tr>\n      <th>Berkelbacteria</th>\n      <td>3.0</td>\n      <td>0.396133</td>\n      <td>0.5382</td>\n      <td>0.1145</td>\n      <td>0.4237</td>\n    </tr>\n    <tr>\n      <th>Dojkabacteria</th>\n      <td>1.0</td>\n      <td>0.414900</td>\n      <td>0.4149</td>\n      <td>0.4149</td>\n      <td>0.0000</td>\n    </tr>\n  </tbody>\n</table>\n</div>"
     },
     "execution_count": 274,
     "metadata": {},
     "output_type": "execute_result"
    },
    {
     "data": {
      "text/plain": "<Figure size 360x216 with 1 Axes>",
      "image/png": "[encoded data removed]"
     },
     "metadata": {
      "needs_background": "light"
     },
     "output_type": "display_data"
    }
   ],
   "source": [
    "figC = pp.figure(figsize=(figWidth, figHeight))\n",
    "ax_HK4 = pp.subplot(1,1,1)\n",
    "\n",
    "cpr = df1[df1[\"type\"] ==\"cpr\"].dropna()\n",
    "cpr_list = list(set(cpr[\"class\"]))\n",
    "\n",
    "cpr_perc = cpr[\"class\"].value_counts(normalize = True)\n",
    "\n",
    "cpr_stats = calculate_metrics(cpr_list,cpr,\"class\")\n",
    "cpr_stats"
   ]
  },
  {
   "cell_type": "code",
   "execution_count": null,
   "outputs": [],
   "source": [
    "# make the CPR class plot\n",
    "# color = ['#b9b9c4', '#b9b9c4', '#b9b9c4', '#b9b9c4', '#b9b9c4', '#b9b9c4', '#b9b9c4', '#b9b9c4']\n",
    "\n",
    "cpr_order = [\"Paceibacteria\",\"ABY1\",\"Microgenomatia\", \"Gracilibacteria\", \"Berkelbacteria\",\"Dojkabacteria\",\"WWE3\",\"Kazan\"]\n",
    "\n",
    "ax_HK4 = sns.boxplot(y=\"HK_per_100_genes\", x=\"class\", data=cpr, order=cpr_order,\n",
    "                    color = '#b9b9c4', flierprops = dict(marker = 'o', markersize = 3, markerfacecolor = 'black', \n",
    "                                                      markeredgecolor = 'black'))\n",
    "\n",
    "\n",
    "# set the y axis limits\n",
    "ax_HK4.set_ylim(0,5)\n",
    "\n",
    "# label axes\n",
    "ax_HK4.set_ylabel(\"HKs per 100 genes\")\n",
    "ax_HK4.set_xlabel(\"CPR class\")\n",
    "\n",
    "locs = ax_HK4.get_xticks()\n",
    "ax_HK4.set_xticks(locs,labels=cpr_order,rotation=45)\n",
    "\n",
    "# remove the right and top borders (but not the axes)\n",
    "ax_HK4.spines['right'].set_visible(False)\n",
    "ax_HK4.spines['top'].set_visible(False)\n",
    "\n",
    "# set axes style and save figure\n",
    "set_axes_height(ax_HK4,axes_height)\n",
    "fileoutc = 'CPR_boxplot.svg'\n",
    "#pp.savefig(fileoutc, bbox_inches=\"tight\")\n",
    "\n",
    "cpr_no_HKs = len(cpr[cpr[\"HK_count\"]==0])\n",
    "all_cpr = 105\n",
    "cpr_perc_no_HKs = (cpr_no_HKs/all_cpr)*100\n",
    "print('% cpr without HKs:',cpr_perc_no_HKs)"
   ],
   "metadata": {
    "collapsed": false,
    "pycharm": {
     "name": "#%%\n"
    }
   }
  },
  {
   "cell_type": "code",
   "execution_count": 272,
   "metadata": {
    "scrolled": false,
    "pycharm": {
     "name": "#%%\n"
    }
   },
   "outputs": [
    {
     "data": {
      "text/plain": "                  # of MAGs  Mean HK_per_100_genes  Max HK_per_100_genes  \\\nIainarchaeia            6.0               0.015467                0.0928   \nCG49143                 4.0               0.146350                0.2627   \nThermoplasmata_A        3.0               0.692333                0.7747   \nMethanosarcinia         2.0               0.418650                0.5144   \nMethanobacteria         1.0               0.582200                0.5822   \nMicrarchaeia            8.0               0.114725                0.2455   \nYNP-45                  2.0               0.170100                0.2528   \nJdFR-18                 2.0               0.160500                0.3210   \nE2                      1.0               1.192800                1.1928   \nWoesearchaeia          11.0               0.063573                0.1222   \n\n                  Min HK_per_100_genes  Range HK_per_100_genes  \nIainarchaeia                    0.0000                  0.0928  \nCG49143                         0.0000                  0.2627  \nThermoplasmata_A                0.5931                  0.1816  \nMethanosarcinia                 0.3229                  0.1915  \nMethanobacteria                 0.5822                  0.0000  \nMicrarchaeia                    0.0000                  0.2455  \nYNP-45                          0.0874                  0.1654  \nJdFR-18                         0.0000                  0.3210  \nE2                              1.1928                  0.0000  \nWoesearchaeia                   0.0000                  0.1222  ",
      "text/html": "<div>\n<style scoped>\n    .dataframe tbody tr th:only-of-type {\n        vertical-align: middle;\n    }\n\n    .dataframe tbody tr th {\n        vertical-align: top;\n    }\n\n    .dataframe thead th {\n        text-align: right;\n    }\n</style>\n<table border=\"1\" class=\"dataframe\">\n  <thead>\n    <tr style=\"text-align: right;\">\n      <th></th>\n      <th># of MAGs</th>\n      <th>Mean HK_per_100_genes</th>\n      <th>Max HK_per_100_genes</th>\n      <th>Min HK_per_100_genes</th>\n      <th>Range HK_per_100_genes</th>\n    </tr>\n  </thead>\n  <tbody>\n    <tr>\n      <th>Iainarchaeia</th>\n      <td>6.0</td>\n      <td>0.015467</td>\n      <td>0.0928</td>\n      <td>0.0000</td>\n      <td>0.0928</td>\n    </tr>\n    <tr>\n      <th>CG49143</th>\n      <td>4.0</td>\n      <td>0.146350</td>\n      <td>0.2627</td>\n      <td>0.0000</td>\n      <td>0.2627</td>\n    </tr>\n    <tr>\n      <th>Thermoplasmata_A</th>\n      <td>3.0</td>\n      <td>0.692333</td>\n      <td>0.7747</td>\n      <td>0.5931</td>\n      <td>0.1816</td>\n    </tr>\n    <tr>\n      <th>Methanosarcinia</th>\n      <td>2.0</td>\n      <td>0.418650</td>\n      <td>0.5144</td>\n      <td>0.3229</td>\n      <td>0.1915</td>\n    </tr>\n    <tr>\n      <th>Methanobacteria</th>\n      <td>1.0</td>\n      <td>0.582200</td>\n      <td>0.5822</td>\n      <td>0.5822</td>\n      <td>0.0000</td>\n    </tr>\n    <tr>\n      <th>Micrarchaeia</th>\n      <td>8.0</td>\n      <td>0.114725</td>\n      <td>0.2455</td>\n      <td>0.0000</td>\n      <td>0.2455</td>\n    </tr>\n    <tr>\n      <th>YNP-45</th>\n      <td>2.0</td>\n      <td>0.170100</td>\n      <td>0.2528</td>\n      <td>0.0874</td>\n      <td>0.1654</td>\n    </tr>\n    <tr>\n      <th>JdFR-18</th>\n      <td>2.0</td>\n      <td>0.160500</td>\n      <td>0.3210</td>\n      <td>0.0000</td>\n      <td>0.3210</td>\n    </tr>\n    <tr>\n      <th>E2</th>\n      <td>1.0</td>\n      <td>1.192800</td>\n      <td>1.1928</td>\n      <td>1.1928</td>\n      <td>0.0000</td>\n    </tr>\n    <tr>\n      <th>Woesearchaeia</th>\n      <td>11.0</td>\n      <td>0.063573</td>\n      <td>0.1222</td>\n      <td>0.0000</td>\n      <td>0.1222</td>\n    </tr>\n  </tbody>\n</table>\n</div>"
     },
     "execution_count": 272,
     "metadata": {},
     "output_type": "execute_result"
    },
    {
     "data": {
      "text/plain": "<Figure size 360x216 with 1 Axes>",
      "image/png": "[encoded data removed]"
     },
     "metadata": {
      "needs_background": "light"
     },
     "output_type": "display_data"
    }
   ],
   "source": [
    "figD = pp.figure(figsize=(figWidth, figHeight))\n",
    "ax_HK5 = pp.subplot(1,1,1)\n",
    "\n",
    "\n",
    "arch = df1[df1[\"type\"] ==\"arch\"]\n",
    "arch_list = list(set(arch[\"class\"]))\n",
    "\n",
    "arch_perc = arch[\"class\"].value_counts(normalize = True)\n",
    "\n",
    "archaea_stats = calculate_metrics(arch_list,arch,\"class\")\n",
    "archaea_stats\n"
   ]
  },
  {
   "cell_type": "code",
   "execution_count": null,
   "outputs": [],
   "source": [
    "archaea_order = [\"Woesearchaeia\",\"Micrarchaeia\",\"Iainarchaeia\",\"CG49143\",\"Thermoplasmata_A\",\"YNP-45\",\"Methanosarcinia\",\"JdFR-18\",\"Methanobacteria\",\"E2\"]\n",
    "# make the archaea class plot\n",
    "ax_HK5 = sns.boxplot(y=\"HK_per_100_genes\", x=\"class\", data=arch, order=archaea_order,\n",
    "                    color = '#b9b9c4', flierprops = dict(marker = 'o', markersize = 3, markerfacecolor = 'black', \n",
    "                                                      markeredgecolor = 'black'))\n",
    "\n",
    "\n",
    "# set y axis limits\n",
    "ax_HK5.set_ylim(0,5)\n",
    "\n",
    "# label axes\n",
    "ax_HK5.set_ylabel(\"HKs per 100 genes\")\n",
    "ax_HK5.set_xlabel(\"Archaea class\")\n",
    "\n",
    "locs = ax_HK5.get_xticks()\n",
    "ax_HK5.set_xticks(locs,labels=archaea_order,rotation=45)\n",
    "\n",
    "# remove the right and top borders (but not the axes)\n",
    "set_axes_height(ax_HK5,2)\n",
    "ax_HK5.spines['right'].set_visible(False)\n",
    "ax_HK5.spines['top'].set_visible(False)\n",
    "set_axes_height(ax_HK5, axes_height)\n",
    "fileoutd = 'archaea_boxplot.svg'\n",
    "#pp.savefig(fileoutd, bbox_inches=\"tight\")\n",
    "\n",
    "archaea_no_HKs = len(arch[arch[\"HK_count\"]==0])\n",
    "all_archaea = 40\n",
    "archaea_perc_no_HKs = (archaea_no_HKs/all_archaea)*100\n",
    "print('% archaea without HKs:',archaea_perc_no_HKs)"
   ],
   "metadata": {
    "collapsed": false,
    "pycharm": {
     "name": "#%%\n"
    }
   }
  },
  {
   "cell_type": "code",
   "execution_count": 260,
   "outputs": [],
   "source": [],
   "metadata": {
    "collapsed": false,
    "pycharm": {
     "name": "#%%\n"
    }
   }
  }
 ],
 "metadata": {
  "kernelspec": {
   "display_name": "Python 3",
   "language": "python",
   "name": "python3"
  },
  "language_info": {
   "codemirror_mode": {
    "name": "ipython",
    "version": 3
   },
   "file_extension": ".py",
   "mimetype": "text/x-python",
   "name": "python",
   "nbconvert_exporter": "python",
   "pygments_lexer": "ipython3",
   "version": "3.7.6"
  }
 },
 "nbformat": 4,
 "nbformat_minor": 4
}