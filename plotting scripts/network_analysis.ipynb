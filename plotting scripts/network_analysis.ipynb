{
 "cells": [
  {
   "cell_type": "code",
   "execution_count": 71,
   "metadata": {
    "collapsed": true
   },
   "outputs": [],
   "source": [
    "## Import packages\n",
    "import networkx as nx\n",
    "import numpy as np\n",
    "from matplotlib import pyplot as pp\n",
    "from axes_style import set_axes_style, set_axes_height, MinorSymLogLocator\n",
    "set_axes_style()"
   ]
  },
  {
   "cell_type": "code",
   "execution_count": 72,
   "outputs": [],
   "source": [
    "## Import graph\n",
    "g = nx.read_graphml(\"\") ## insert path to graphml file"
   ],
   "metadata": {
    "collapsed": false,
    "pycharm": {
     "name": "#%%\n"
    }
   }
  },
  {
   "cell_type": "code",
   "execution_count": 73,
   "outputs": [],
   "source": [
    "# Return average degree of graph\n",
    "\n",
    "def k_avg(graph):\n",
    "    k_list = [k for n, k in graph.degree()]\n",
    "    k_avg = np.sum(k_list)/len(k_list)\n",
    "    return k_avg"
   ],
   "metadata": {
    "collapsed": false,
    "pycharm": {
     "name": "#%%\n"
    }
   }
  },
  {
   "cell_type": "code",
   "execution_count": 74,
   "outputs": [],
   "source": [
    "def network_metrics(graph):\n",
    "    # Function for calculating network metrics\n",
    "\n",
    "    n = nx.number_of_nodes(g)\n",
    "    print(\"Number of nodes:\",n)\n",
    "\n",
    "    m = nx.number_of_edges(g)\n",
    "    print(\"Number of edges:\",m)\n",
    "\n",
    "    c = nx.number_connected_components(g)\n",
    "    print(\"Number of connected components:\", c)\n",
    "\n",
    "    d = nx.density(g)\n",
    "    print(\"Density:\",d)\n",
    "\n",
    "    k = k_avg(g)\n",
    "    print(\"Average degree:\",k)"
   ],
   "metadata": {
    "collapsed": false,
    "pycharm": {
     "name": "#%%\n"
    }
   }
  },
  {
   "cell_type": "code",
   "execution_count": 75,
   "outputs": [
    {
     "name": "stdout",
     "output_type": "stream",
     "text": [
      "{845: 1, 99: 1, 45: 1, 36: 2, 31: 1, 30: 1, 29: 1, 28: 1, 24: 3, 23: 1, 21: 1, 19: 1, 18: 1, 17: 1, 16: 5, 15: 1, 14: 8, 13: 4, 12: 7, 11: 8, 10: 7, 9: 13, 8: 21, 7: 17, 6: 25, 5: 54, 4: 86, 3: 188, 2: 758, 1: 5041}\n"
     ]
    }
   ],
   "source": [
    "## creat dictionary with [key]:value being [# of sequences]:# of components containing that many sequences\n",
    "component_lengths = [len(c) for c in sorted(nx.connected_components(g), key=len, reverse=True)]\n",
    "component_bins = {i:component_lengths.count(i) for i in component_lengths}\n",
    "x = list(component_bins.keys())\n",
    "y = list(component_bins.values())\n",
    "print(component_bins)"
   ],
   "metadata": {
    "collapsed": false,
    "pycharm": {
     "name": "#%%\n"
    }
   }
  },
  {
   "cell_type": "code",
   "execution_count": 88,
   "outputs": [
    {
     "data": {
      "text/plain": "<Figure size 576x144 with 0 Axes>"
     },
     "metadata": {},
     "output_type": "display_data"
    },
    {
     "data": {
      "text/plain": "<Figure size 286.093x190.728 with 3 Axes>",
      "image/png": "[encoded data removed]"
     },
     "metadata": {
      "needs_background": "light"
     },
     "output_type": "display_data"
    }
   ],
   "source": [
    "# plot histogram with y = number of components and x = number of sequences. Include axis breaks\n",
    "\n",
    "figWidth = 8\n",
    "figHeight = 2\n",
    "fig1 = pp.figure(figsize=(figWidth, figHeight))\n",
    "\n",
    "fig1, (ax1, ax2, ax3) = pp.subplots(1, 3, sharey=True) # put two sets of axes on same plot\n",
    "fig1.subplots_adjust(hspace=0.02)  # adjust space between axes\n",
    "\n",
    "ax1.bar(x,y, color = 'dimgrey', edgecolor='dimgrey',clip_on=True) # plot data on both axes\n",
    "ax2.bar(x,y, color = 'dimgrey',edgecolor='dimgrey', clip_on=True) # plot data on both axes\n",
    "ax3.bar(x,y, color = 'dimgrey',edgecolor='dimgrey', clip_on=True)\n",
    "# zoom-in / limit the view to different portions of the data\n",
    "ax1.set_xlim(0,50)  # most of the data\n",
    "ax1.set_xticks([0,10,20,30,40,50])\n",
    "ax2.set_xlim(90,140) # outliers set 1\n",
    "ax2.set_xticks([90,100,110,120,130,140])\n",
    "ax3.set_xlim(830,880)\n",
    "ax3.set_xticks([830,840,850,860,870,880])# outliers set 2\n",
    "ax1.set_yscale('symlog',linthresh=1)\n",
    "ax1.yaxis.set_minor_locator(MinorSymLogLocator(1))\n",
    "ax1.set_ylim(0.8,10**4)\n",
    "\n",
    "ax1.set_ylabel(\"Number of components\")\n",
    "ax1.set_xlabel(\"Number of sequences\")\n",
    "set_axes_height(ax1, 2)\n",
    "set_axes_height(ax2, 2)\n",
    "set_axes_height(ax3, 2)\n",
    "\n",
    "#fileout1 = 'component_sequence_histogram.png'\n",
    "#pp.savefig(fileout1, bbox_inches=\"tight\",dpi=300)\n",
    "\n"
   ],
   "metadata": {
    "collapsed": false,
    "pycharm": {
     "name": "#%%\n"
    }
   }
  }
 ],
 "metadata": {
  "kernelspec": {
   "display_name": "Python 3",
   "language": "python",
   "name": "python3"
  },
  "language_info": {
   "codemirror_mode": {
    "name": "ipython",
    "version": 2
   },
   "file_extension": ".py",
   "mimetype": "text/x-python",
   "name": "python",
   "nbconvert_exporter": "python",
   "pygments_lexer": "ipython2",
   "version": "2.7.6"
  }
 },
 "nbformat": 4,
 "nbformat_minor": 0
}