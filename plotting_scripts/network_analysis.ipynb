{
 "cells": [
  {
   "cell_type": "code",
   "execution_count": 1,
   "metadata": {
    "collapsed": true
   },
   "outputs": [],
   "source": [
    "## Import packages\n",
    "import networkx as nx\n",
    "import numpy as np\n",
    "from matplotlib import pyplot as pp\n",
    "from axes_style import set_axes_style, set_axes_height, MinorSymLogLocator\n",
    "import pandas as pd\n",
    "\n",
    "## Set standard axes style\n",
    "set_axes_style()\n",
    "\n",
    "figWidth = 5\n",
    "figHeight = 5\n",
    "\n",
    "axes_height = 4"
   ]
  },
  {
   "cell_type": "code",
   "execution_count": 2,
   "outputs": [],
   "source": [
    "## Import graph\n",
    "g = nx.read_graphml(\"/Users/emilyfulk/DeMMOworkflow/allHKseq_120.graphml\") ## insert path to graphml file\n",
    "\n",
    "\n",
    "\n"
   ],
   "metadata": {
    "collapsed": false,
    "pycharm": {
     "name": "#%%\n"
    }
   }
  },
  {
   "cell_type": "code",
   "execution_count": 3,
   "outputs": [],
   "source": [
    "# Return average degree of graph\n",
    "\n",
    "def k_avg(graph):\n",
    "    k_list = [k for n, k in graph.degree()]\n",
    "    k_avg = np.sum(k_list)/len(k_list)\n",
    "    return k_avg"
   ],
   "metadata": {
    "collapsed": false,
    "pycharm": {
     "name": "#%%\n"
    }
   }
  },
  {
   "cell_type": "code",
   "execution_count": 4,
   "outputs": [
    {
     "name": "stdout",
     "output_type": "stream",
     "text": [
      "Number of nodes: 10139\n",
      "Number of edges: 17553\n",
      "Number of connected components: 6260\n",
      "Density: 0.0003415339952797756\n",
      "Average degree: 3.4624716441463654\n"
     ]
    }
   ],
   "source": [
    "def network_metrics(graph):\n",
    "    # Function for calculating network metrics\n",
    "\n",
    "    n = nx.number_of_nodes(g)\n",
    "    print(\"Number of nodes:\",n)\n",
    "\n",
    "    m = nx.number_of_edges(g)\n",
    "    print(\"Number of edges:\",m)\n",
    "\n",
    "    c = nx.number_connected_components(g)\n",
    "    print(\"Number of connected components:\", c)\n",
    "\n",
    "    d = nx.density(g)\n",
    "    print(\"Density:\",d)\n",
    "\n",
    "    k = k_avg(g)\n",
    "    print(\"Average degree:\",k)\n",
    "\n",
    "    return c\n",
    "\n",
    "num_components = network_metrics(g)"
   ],
   "metadata": {
    "collapsed": false,
    "pycharm": {
     "name": "#%%\n"
    }
   }
  },
  {
   "cell_type": "code",
   "execution_count": 5,
   "outputs": [
    {
     "name": "stdout",
     "output_type": "stream",
     "text": [
      "{845: 1, 99: 1, 45: 1, 36: 2, 31: 1, 30: 1, 29: 1, 28: 1, 24: 3, 23: 1, 21: 1, 19: 1, 18: 1, 17: 1, 16: 5, 15: 1, 14: 8, 13: 4, 12: 7, 11: 8, 10: 7, 9: 13, 8: 21, 7: 17, 6: 25, 5: 54, 4: 86, 3: 188, 2: 758, 1: 5041}\n"
     ]
    }
   ],
   "source": [
    "## creat dictionary with [key]:value being [# of sequences]:# of components containing that many sequences\n",
    "component_lengths = [len(c) for c in sorted(nx.connected_components(g), key=len, reverse=True)]\n",
    "component_bins = {i:component_lengths.count(i) for i in component_lengths}\n",
    "x = list(component_bins.keys())\n",
    "y = list(component_bins.values())\n",
    "print(component_bins)"
   ],
   "metadata": {
    "collapsed": false,
    "pycharm": {
     "name": "#%%\n"
    }
   }
  },
  {
   "cell_type": "code",
   "execution_count": 6,
   "outputs": [
    {
     "data": {
      "text/plain": "<Figure size 286.093x190.728 with 3 Axes>",
      "image/png": "[encoded data removed]"
     },
     "metadata": {
      "needs_background": "light"
     },
     "output_type": "display_data"
    }
   ],
   "source": [
    "# plot histogram with y = number of components and x = number of sequences. Include axis breaks\n",
    "\n",
    "#fig1 = pp.figure(figsize=(figWidth, figHeight))\n",
    "\n",
    "fig1, (ax1, ax2, ax3) = pp.subplots(1, 3, sharey=True) # put two sets of axes on same plot\n",
    "fig1.subplots_adjust(hspace=0.02)  # adjust space between axes\n",
    "\n",
    "ax1.bar(x,y, color = 'dimgrey', edgecolor='dimgrey',clip_on=True) # plot data on both axes\n",
    "ax2.bar(x,y, color = 'dimgrey',edgecolor='dimgrey', clip_on=True) # plot data on both axes\n",
    "ax3.bar(x,y, color = 'dimgrey',edgecolor='dimgrey', clip_on=True)\n",
    "# zoom-in / limit the view to different portions of the data\n",
    "ax1.set_xlim(0,50)  # most of the data\n",
    "ax1.set_xticks([0,10,20,30,40,50])\n",
    "ax2.set_xlim(90,140) # outliers set 1\n",
    "ax2.set_xticks([90,100,110,120,130,140])\n",
    "ax3.set_xlim(830,880)\n",
    "ax3.set_xticks([830,840,850,860,870,880])# outliers set 2\n",
    "ax1.set_yscale('symlog',linthresh=1)\n",
    "ax1.yaxis.set_minor_locator(MinorSymLogLocator(1))\n",
    "ax1.set_ylim(0.8,10**4)\n",
    "\n",
    "ax1.set_ylabel(\"Number of components\")\n",
    "ax1.set_xlabel(\"Number of sequences\")\n",
    "set_axes_height(ax1, 2)\n",
    "set_axes_height(ax2, 2)\n",
    "set_axes_height(ax3, 2)\n",
    "\n",
    "#fileout1 = 'component_sequence_histogram.png'\n",
    "#pp.savefig(fileout1, bbox_inches=\"tight\",dpi=300)\n"
   ],
   "metadata": {
    "collapsed": false,
    "pycharm": {
     "name": "#%%\n"
    }
   }
  },
  {
   "cell_type": "code",
   "execution_count": 7,
   "outputs": [
    {
     "name": "stdout",
     "output_type": "stream",
     "text": [
      "8\n",
      "28\n",
      "845\n",
      "1219\n",
      "5041\n"
     ]
    }
   ],
   "source": [
    "## for each component, count the number of sites and number of phyla represented\n",
    "all_phyla_dict = g.nodes.data(\"NCBI phylum\", default=\"Unassigned\")\n",
    "all_site_dict = g.nodes.data(\"site_ID \")\n",
    "\n",
    "sites_per_component = []\n",
    "phyla_per_component = []\n",
    "HK_per_component = []\n",
    "number_of_components = 0\n",
    "single_node_components = 0\n",
    "\n",
    "for c in nx.connected_components(g):\n",
    "\n",
    "\n",
    "    component_HK = len(c)\n",
    "\n",
    "    if component_HK >= 2:\n",
    "        HK_per_component.append(component_HK)\n",
    "\n",
    "        component_phyla_list = []\n",
    "        component_site_list = []\n",
    "\n",
    "        for node in c:\n",
    "            component_phyla_list.append(all_phyla_dict[node])\n",
    "            component_site_list.append(all_site_dict[node])\n",
    "\n",
    "        component_sites = len(list(set(component_site_list)))\n",
    "        component_phyla = len(list(set(component_phyla_list)))\n",
    "\n",
    "        sites_per_component.append(component_sites)\n",
    "        phyla_per_component.append(component_phyla)\n",
    "\n",
    "        number_of_components +=1\n",
    "\n",
    "    else:\n",
    "        single_node_components +=1\n",
    "        pass\n",
    "\n",
    "max_sites = max(sites_per_component)\n",
    "max_phyla = max(phyla_per_component)\n",
    "max_seqs = max(HK_per_component)\n",
    "\n",
    "\n",
    "print(max_sites)\n",
    "print(max_phyla)\n",
    "print(max_seqs)\n",
    "print(number_of_components)\n",
    "print(single_node_components)\n"
   ],
   "metadata": {
    "collapsed": false,
    "pycharm": {
     "name": "#%%\n"
    }
   }
  },
  {
   "cell_type": "code",
   "execution_count": 8,
   "outputs": [
    {
     "data": {
      "text/plain": "<Figure size 381.457x381.457 with 1 Axes>",
      "image/png": "[encoded data removed]"
     },
     "metadata": {
      "needs_background": "light"
     },
     "output_type": "display_data"
    }
   ],
   "source": [
    "fig1, ax1 = pp.subplots(figsize =(5, 5))\n",
    "#fig1_cdf, ax1_cdf = pp.subplots(figsize =(5, 5))\n",
    "\n",
    "color = 'dimgrey'\n",
    "edgecolor = 'black'\n",
    "\n",
    "n1,bins1,patches1 = ax1.hist(sites_per_component, bins = np.arange(1,10), color = color, edgecolor = 'black',align = 'left', clip_on=True )\n",
    "seq_percent = [(i/num_components)*100 for i in n1]\n",
    "seq_percent_round = [round(j, 2) for j in seq_percent]\n",
    "\n",
    "#ax1_cdf.hist(sites_per_component, bins = bins1, density=True, cumulative=True, histtype='step',color='red')\n",
    "#ax1_cdf.hist(phyla_per_component, bins = bins2, color = 'blue', density=True, cumulative=True, histtype='step')\n",
    "\n",
    "ax1.set_yscale('log')\n",
    "ax1.set_ylim(0.8,10**4)\n",
    "ax1.bar_label(patches1,labels=seq_percent_round)\n",
    "ax1.set_ylabel(\"Number of components\")\n",
    "ax1.set_xlabel(\"Number of sites\")\n",
    "set_axes_height(ax1,axes_height)\n",
    "fileA = '221024_site_per_component.svg'\n",
    "pp.savefig(fileA,bbox_inches = \"tight\")\n",
    "\n",
    "#pp.plot(bins1,cdf)"
   ],
   "metadata": {
    "collapsed": false,
    "pycharm": {
     "name": "#%%\n"
    }
   }
  },
  {
   "cell_type": "code",
   "execution_count": 9,
   "outputs": [
    {
     "data": {
      "text/plain": "<Figure size 381.457x381.457 with 1 Axes>",
      "image/png": "[encoded data removed]"
     },
     "metadata": {
      "needs_background": "light"
     },
     "output_type": "display_data"
    }
   ],
   "source": [
    "fig2, ax2 = pp.subplots(figsize =(5,5))\n",
    "\n",
    "\n",
    "\n",
    "n2, bins2, patches2 = ax2.hist(phyla_per_component, bins = np.arange(1,29),color = color, edgecolor = 'black',align = 'left', clip_on = True)\n",
    "\n",
    "#ax1_cdf.hist(phyla_per_component, bins = bins2, color = 'blue', density=True, cumulative=True, histtype='step')\n",
    "\n",
    "phyla_percent = [(i/num_components)*100 for i in n2]\n",
    "phyla_percent_round = [round(j, 2) for j in phyla_percent]\n",
    "ax2.set_yscale('log')\n",
    "ax2.bar_label(patches2, labels=phyla_percent_round)\n",
    "ax2.set_ylabel(\"Number of components\")\n",
    "ax2.set_xlabel(\"Number of phlya\")\n",
    "ax2.set_ylim(0.8,10**4)\n",
    "set_axes_height(ax2,axes_height)\n",
    "fileB = '221024_phyla_per_component.svg'\n",
    "pp.savefig(fileB,bbox_inches = \"tight\")"
   ],
   "metadata": {
    "collapsed": false,
    "pycharm": {
     "name": "#%%\n"
    }
   }
  },
  {
   "cell_type": "code",
   "execution_count": 10,
   "outputs": [
    {
     "data": {
      "text/plain": "Text(0.5, 0, 'Number of HKs')"
     },
     "execution_count": 10,
     "metadata": {},
     "output_type": "execute_result"
    },
    {
     "data": {
      "text/plain": "<Figure size 572.185x381.457 with 3 Axes>",
      "image/png": "[encoded data removed]"
     },
     "metadata": {
      "needs_background": "light"
     },
     "output_type": "display_data"
    }
   ],
   "source": [
    "fig3, (ax3, ax4, ax5) = pp.subplots(1, 3, sharey=True) # put two sets of axes on same plot\n",
    "fig3.subplots_adjust(hspace=0.02)  # adjust space between axes\n",
    "\n",
    "n3,bins3,patches3 = ax3.hist(HK_per_component, bins = np.arange(1,850), color = color, edgecolor = 'black')\n",
    "n4,bins4,patches4 = ax4.hist(HK_per_component, bins = np.arange(1,850), color = color, edgecolor = 'black')\n",
    "n5,bins5,patches5 = ax5.hist(HK_per_component, bins = np.arange(1,850), color = color, edgecolor = 'black')\n",
    "\n",
    "ax3.set_xlim(0,50)  # most of the data\n",
    "ax3.set_xticks([0,10,20,30,40,50])\n",
    "ax4.set_xlim(90,140) # outliers set 1\n",
    "ax4.set_xticks([90,100,110,120,130,140])\n",
    "ax5.set_xlim(830,880)\n",
    "ax5.set_xticks([830,840,850,860,870,880])# outliers set 2\n",
    "\n",
    "\n",
    "ax3.set_ylim(0.8,10**4)\n",
    "ax4.set_ylim(0.8,10**4)\n",
    "ax5.set_ylim(0.8,10**4)\n",
    "\n",
    "ax3.set_yscale('log')\n",
    "ax4.set_yscale('log')\n",
    "ax5.set_yscale('log')\n",
    "\n",
    "set_axes_height(ax3, 4)\n",
    "set_axes_height(ax4, 4)\n",
    "set_axes_height(ax5, 4)\n",
    "\n",
    "ax3.set_ylabel(\"Number of components\")\n",
    "ax3.set_xlabel(\"Number of HKs\")\n",
    "\n",
    "\n",
    "#fileC = 'seq_per_component.svg'\n",
    "#pp.savefig(fileC,bbox_inches = \"tight\")"
   ],
   "metadata": {
    "collapsed": false,
    "pycharm": {
     "name": "#%%\n"
    }
   }
  },
  {
   "cell_type": "code",
   "execution_count": 11,
   "outputs": [
    {
     "name": "stdout",
     "output_type": "stream",
     "text": [
      "Verrucomicrobiota 115\n",
      "Elusimicrobiota 44\n",
      "Desulfobacterota 760\n",
      "OLB16 62\n",
      "Deltaproteobacteria 18\n",
      "Firmicutes 52\n",
      "Desantibacteria 3\n",
      "Edwardsbacteria 12\n",
      "Proteobacteria 894\n",
      "Dadabacteria 14\n",
      "Cyanobacteriota 250\n",
      "Nitrospirota 244\n",
      "Myxococcota 64\n",
      "Firmicutes_B 64\n",
      "UBA3054 48\n",
      "UBA9089 3\n",
      "Spirochaetota 46\n",
      "Omnitrophota 127\n",
      "Latescibacterota 26\n",
      "Armatimonadota 49\n",
      "Acidobacteriota 59\n",
      "Actinobacteriota 125\n",
      "Patescibacteria 158\n",
      "UBP1 33\n",
      "UBA10199 3\n",
      "Chloroflexota 211\n",
      "Thermoplasmatota 14\n",
      "Hadesarchaeota 1\n",
      "Zixibacteria 99\n",
      "Micrarchaeota 7\n",
      "Halobacterota 4\n",
      "MBNT15 1\n",
      "Bdellovibrionota 33\n",
      "Goldbacteria-1 38\n",
      "Planctomycetota 298\n",
      "Euryarchaeota 14\n",
      "Elusimicrobia 2\n",
      "Dependentiae 2\n",
      "Margulisbacteria 20\n",
      "Fusobacteriota 7\n",
      "Gemmatimonadota 11\n",
      "Nanoarchaeota 8\n",
      "AABM5-125-24 40\n",
      "Eremiobacterota 98\n",
      "Eisenbacteria 43\n",
      "Bacteroidota 543\n",
      "Firmicutes_D 20\n",
      "Bipolaricaulota 7\n"
     ]
    }
   ],
   "source": [
    "gtdb_phylum_list = pd.read_csv(\"/Users/emilyfulk/DeMMOworkflow/SSN_gtdb_phylum_ist.csv\")\n",
    "\n",
    "for i in list(set(gtdb_phylum_list[\"phylum\"])):\n",
    "    phylum_count = list(gtdb_phylum_list[\"phylum\"]).count(i)\n",
    "    print(i, phylum_count)"
   ],
   "metadata": {
    "collapsed": false,
    "pycharm": {
     "name": "#%%\n"
    }
   }
  },
  {
   "cell_type": "code",
   "execution_count": 12,
   "outputs": [],
   "source": [
    "\n",
    "# 1 proteobacteria, 2 desulfobacteroa, 3 bacteriodota 4 planctomycetota, 5 cyanobacteria, 6 nitrospirota 7 chloroflexota 8 patescibacteria"
   ],
   "metadata": {
    "collapsed": false,
    "pycharm": {
     "name": "#%%\n"
    }
   }
  }
 ],
 "metadata": {
  "kernelspec": {
   "display_name": "Python 3",
   "language": "python",
   "name": "python3"
  },
  "language_info": {
   "codemirror_mode": {
    "name": "ipython",
    "version": 2
   },
   "file_extension": ".py",
   "mimetype": "text/x-python",
   "name": "python",
   "nbconvert_exporter": "python",
   "pygments_lexer": "ipython2",
   "version": "2.7.6"
  }
 },
 "nbformat": 4,
 "nbformat_minor": 0
}