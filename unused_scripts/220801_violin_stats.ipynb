{
 "cells": [
  {
   "cell_type": "code",
   "execution_count": 11,
   "metadata": {
    "collapsed": true
   },
   "outputs": [],
   "source": [
    "import pandas as pd\n",
    "import numpy as np\n",
    "from scipy import stats\n",
    "from itertools import combinations\n"
   ]
  },
  {
   "cell_type": "code",
   "execution_count": 9,
   "outputs": [
    {
     "data": {
      "text/plain": "    site  genome  HK_count  RR_count  prodigal_gene_count  \\\n0     D1       1        69        82                 6215   \n1     D1      10        41        38                 2504   \n2     D1      11         1         1                  942   \n3     D1      12        16        18                 1627   \n4     D1      13        29        44                 4923   \n..   ...     ...       ...       ...                  ...   \n576   WC       6         6         8                 1337   \n577   WC      60         6         4                  950   \n578   WC       7         4         3                 1050   \n579   WC       8         1         3                  952   \n580   WC       9         8        11                 1687   \n\n     HK_per_100_prodigal_genes  RR_per_100  \n0                        1.110       1.319  \n1                        1.637       1.518  \n2                        0.106       0.106  \n3                        0.983       1.106  \n4                        0.589       0.894  \n..                         ...         ...  \n576                      0.449       0.598  \n577                      0.632       0.421  \n578                      0.381       0.286  \n579                      0.105       0.315  \n580                      0.474       0.652  \n\n[581 rows x 7 columns]",
      "text/html": "<div>\n<style scoped>\n    .dataframe tbody tr th:only-of-type {\n        vertical-align: middle;\n    }\n\n    .dataframe tbody tr th {\n        vertical-align: top;\n    }\n\n    .dataframe thead th {\n        text-align: right;\n    }\n</style>\n<table border=\"1\" class=\"dataframe\">\n  <thead>\n    <tr style=\"text-align: right;\">\n      <th></th>\n      <th>site</th>\n      <th>genome</th>\n      <th>HK_count</th>\n      <th>RR_count</th>\n      <th>prodigal_gene_count</th>\n      <th>HK_per_100_prodigal_genes</th>\n      <th>RR_per_100</th>\n    </tr>\n  </thead>\n  <tbody>\n    <tr>\n      <th>0</th>\n      <td>D1</td>\n      <td>1</td>\n      <td>69</td>\n      <td>82</td>\n      <td>6215</td>\n      <td>1.110</td>\n      <td>1.319</td>\n    </tr>\n    <tr>\n      <th>1</th>\n      <td>D1</td>\n      <td>10</td>\n      <td>41</td>\n      <td>38</td>\n      <td>2504</td>\n      <td>1.637</td>\n      <td>1.518</td>\n    </tr>\n    <tr>\n      <th>2</th>\n      <td>D1</td>\n      <td>11</td>\n      <td>1</td>\n      <td>1</td>\n      <td>942</td>\n      <td>0.106</td>\n      <td>0.106</td>\n    </tr>\n    <tr>\n      <th>3</th>\n      <td>D1</td>\n      <td>12</td>\n      <td>16</td>\n      <td>18</td>\n      <td>1627</td>\n      <td>0.983</td>\n      <td>1.106</td>\n    </tr>\n    <tr>\n      <th>4</th>\n      <td>D1</td>\n      <td>13</td>\n      <td>29</td>\n      <td>44</td>\n      <td>4923</td>\n      <td>0.589</td>\n      <td>0.894</td>\n    </tr>\n    <tr>\n      <th>...</th>\n      <td>...</td>\n      <td>...</td>\n      <td>...</td>\n      <td>...</td>\n      <td>...</td>\n      <td>...</td>\n      <td>...</td>\n    </tr>\n    <tr>\n      <th>576</th>\n      <td>WC</td>\n      <td>6</td>\n      <td>6</td>\n      <td>8</td>\n      <td>1337</td>\n      <td>0.449</td>\n      <td>0.598</td>\n    </tr>\n    <tr>\n      <th>577</th>\n      <td>WC</td>\n      <td>60</td>\n      <td>6</td>\n      <td>4</td>\n      <td>950</td>\n      <td>0.632</td>\n      <td>0.421</td>\n    </tr>\n    <tr>\n      <th>578</th>\n      <td>WC</td>\n      <td>7</td>\n      <td>4</td>\n      <td>3</td>\n      <td>1050</td>\n      <td>0.381</td>\n      <td>0.286</td>\n    </tr>\n    <tr>\n      <th>579</th>\n      <td>WC</td>\n      <td>8</td>\n      <td>1</td>\n      <td>3</td>\n      <td>952</td>\n      <td>0.105</td>\n      <td>0.315</td>\n    </tr>\n    <tr>\n      <th>580</th>\n      <td>WC</td>\n      <td>9</td>\n      <td>8</td>\n      <td>11</td>\n      <td>1687</td>\n      <td>0.474</td>\n      <td>0.652</td>\n    </tr>\n  </tbody>\n</table>\n<p>581 rows × 7 columns</p>\n</div>"
     },
     "execution_count": 9,
     "metadata": {},
     "output_type": "execute_result"
    }
   ],
   "source": [
    "# Import data\n",
    "\n",
    "file = \"/Users/emilyfulk/DeMMOworkflow/022122_fig1_2 (1).csv\"\n",
    "\n",
    "data = pd.read_csv(file)\n",
    "sites = list(set(data[\"site\"]))\n",
    "data"
   ],
   "metadata": {
    "collapsed": false,
    "pycharm": {
     "name": "#%%\n"
    }
   }
  },
  {
   "cell_type": "code",
   "execution_count": 12,
   "outputs": [
    {
     "name": "stdout",
     "output_type": "stream",
     "text": [
      "The maximum HK frequency is 4.377\n",
      "The minimum HK frequency is 0.0\n",
      "The maximum RR frequency is 3.581\n",
      "The mimimum RR frequency is 0.0\n",
      "The mean frequency of HKs at site  WC  is  0.47806666666666664\n",
      "The mean frequency of RRs at site  WC  is  0.5671333333333333\n",
      "The mean frequency of HKs at site  D1  is  0.6305200000000001\n",
      "The mean frequency of RRs at site  D1  is  0.7094\n",
      "The mean frequency of HKs at site  D2  is  0.7997300000000002\n",
      "The mean frequency of RRs at site  D2  is  0.9525100000000001\n",
      "The mean frequency of HKs at site  SW  is  0.5702580645161288\n",
      "The mean frequency of RRs at site  SW  is  0.6993440860215051\n",
      "The mean frequency of HKs at site  D5  is  0.7415862068965519\n",
      "The mean frequency of RRs at site  D5  is  0.8897241379310342\n",
      "The mean frequency of HKs at site  D6  is  1.1865599999999998\n",
      "The mean frequency of RRs at site  D6  is  1.26379\n",
      "The mean frequency of HKs at site  D4  is  0.7483555555555558\n",
      "The mean frequency of RRs at site  D4  is  0.8549777777777781\n",
      "The mean frequency of HKs at site  D3  is  0.8573199999999997\n",
      "The mean frequency of RRs at site  D3  is  0.9770299999999998\n"
     ]
    }
   ],
   "source": [
    "# Calculate range of HK and RR frequencies over all data\n",
    "print(\"The maximum HK frequency is\",data[\"HK_per_100_prodigal_genes\"].max())\n",
    "print(\"The minimum HK frequency is\",data[\"HK_per_100_prodigal_genes\"].min())\n",
    "print(\"The maximum RR frequency is\",data[\"RR_per_100\"].max())\n",
    "print(\"The mimimum RR frequency is\",data[\"RR_per_100\"].min())\n",
    "\n",
    "# Calculate the mean of HK and RR frequencies at each site\n",
    "for s in sites:\n",
    "    HK_mean = np.mean(data[\"HK_per_100_prodigal_genes\"][data[\"site\"]==s])\n",
    "    RR_mean = np.mean(data[\"RR_per_100\"][data[\"site\"]==s])\n",
    "\n",
    "    print(\"The mean frequency of HKs at site \",s,\" is \",HK_mean)\n",
    "    print(\"The mean frequency of RRs at site \",s,\" is \",RR_mean)"
   ],
   "metadata": {
    "collapsed": false,
    "pycharm": {
     "name": "#%%\n"
    }
   }
  },
  {
   "cell_type": "code",
   "execution_count": 4,
   "outputs": [
    {
     "name": "stdout",
     "output_type": "stream",
     "text": [
      "SITE:  WC HK statistic 0.8847375512123108 HK p-value 3.8210175262065604e-05\n",
      "SITE:  WC RR statistic 0.9035031795501709 RR p-value 0.0001769116788636893\n",
      "SITE:  D1 HK statistic 0.939792275428772 HK p-value 0.14640380442142487\n",
      "SITE:  D1 RR statistic 0.9342111349105835 RR p-value 0.10874971747398376\n",
      "SITE:  D2 HK statistic 0.9172325730323792 HK p-value 1.0067601579066832e-05\n",
      "SITE:  D2 RR statistic 0.9450199604034424 RR p-value 0.00039549279608763754\n",
      "SITE:  SW HK statistic 0.9630798697471619 HK p-value 0.009923617355525494\n",
      "SITE:  SW RR statistic 0.9480302929878235 RR p-value 0.00101888133212924\n",
      "SITE:  D5 HK statistic 0.9352383017539978 HK p-value 0.004035455174744129\n",
      "SITE:  D5 RR statistic 0.9246726036071777 RR p-value 0.0014687528600916266\n",
      "SITE:  D6 HK statistic 0.9254815578460693 HK p-value 2.7830978069687262e-05\n",
      "SITE:  D6 RR statistic 0.9760148525238037 RR p-value 0.06479618698358536\n",
      "SITE:  D4 HK statistic 0.9182209968566895 HK p-value 0.003681967267766595\n",
      "SITE:  D4 RR statistic 0.9497515559196472 RR p-value 0.04970584437251091\n",
      "SITE:  D3 HK statistic 0.9205948710441589 HK p-value 1.5137577975110617e-05\n",
      "SITE:  D3 RR statistic 0.9338938593864441 RR p-value 8.335590973729268e-05\n"
     ]
    }
   ],
   "source": [
    "# Perform Shapiro-Wilks test for normality\n",
    "\n",
    "for s in sites:\n",
    "    '''Performs a Shapiro-Wilks test for normality on HK and RR frequencies at each site'''\n",
    "\n",
    "    HK_distribution = data[\"HK_per_100_prodigal_genes\"][data[\"site\"]==s]\n",
    "    RR_distribution = data[\"RR_per_100\"][data[\"site\"]==s]\n",
    "\n",
    "    # Perform Shapiro-Wilks test for normality\n",
    "\n",
    "    HK_stat, HK_p = stats.shapiro(HK_distribution)\n",
    "    RR_stat, RR_p = stats.shapiro(RR_distribution)\n",
    "\n",
    "    print('SITE: ',s,'HK statistic',HK_stat,'HK p-value',HK_p)\n",
    "    print('SITE: ',s,'RR statistic',RR_stat,'RR p-value',RR_p)"
   ],
   "metadata": {
    "collapsed": false,
    "pycharm": {
     "name": "#%%\n"
    }
   }
  },
  {
   "cell_type": "code",
   "execution_count": 5,
   "outputs": [
    {
     "name": "stdout",
     "output_type": "stream",
     "text": [
      "WC D1 U 622.0 p-value 0.21870548474659346\n",
      "WC D2 U 2158.5 p-value 0.0030253330365005125\n",
      "WC SW U 2417.5 p-value 0.16438301617165751\n",
      "WC D5 U 1232.0 p-value 0.006288500073340411\n",
      "WC D6 U 1162.5 p-value 9.495132393228407e-11\n",
      "WC D4 U 946.5 p-value 0.009063493774472131\n",
      "WC D3 U 2131.5 p-value 0.0022123288605782176\n",
      "D1 D2 U 1094.5 p-value 0.33838462156758786\n",
      "D1 SW U 1255.5 p-value 0.5421888121160666\n",
      "D1 D5 U 643.0 p-value 0.41833312856123794\n",
      "D1 D6 U 665.0 p-value 0.0003087771058138581\n",
      "D1 D4 U 500.0 p-value 0.44724927034508544\n",
      "D1 D3 U 1046.0 p-value 0.20884784049643867\n",
      "D2 SW U 5479.5 p-value 0.03242133870946284\n",
      "D2 D5 U 2973.0 p-value 0.7935810451614932\n",
      "D2 D6 U 3374.0 p-value 7.114571398541426e-05\n",
      "D2 D4 U 2279.0 p-value 0.9030281732265782\n",
      "D2 D3 U 4748.5 p-value 0.5394477409399514\n",
      "SW D5 U 2270.5 p-value 0.1030140518286985\n",
      "SW D6 U 2199.0 p-value 2.6059048571802505e-10\n",
      "SW D4 U 1765.5 p-value 0.1380165245662125\n",
      "SW D3 U 3688.5 p-value 0.01315317167637631\n",
      "D5 D6 U 1823.0 p-value 0.00010297289119199656\n",
      "D5 D4 U 1294.0 p-value 0.944336149523137\n",
      "D5 D3 U 2699.5 p-value 0.47044003450269734\n",
      "D6 D4 U 3059.5 p-value 0.0005451737166952425\n",
      "D6 D3 U 6353.0 p-value 0.000949198585864336\n",
      "D4 D3 U 2155.0 p-value 0.6862440904691274\n"
     ]
    }
   ],
   "source": [
    "for a,b in combinations(sites,2):\n",
    "\n",
    "    '''Performs a Mann-Whitney U test on HK frequencies between each pair of site'''\n",
    "\n",
    "    HK_a = data[\"HK_per_100_prodigal_genes\"][data[\"site\"]==a]\n",
    "    HK_b = data[\"HK_per_100_prodigal_genes\"][data[\"site\"]==b]\n",
    "\n",
    "    U,p = stats.mannwhitneyu(HK_a, HK_b)\n",
    "\n",
    "    print(a,b,\"U\",U,\"p-value\",p)"
   ],
   "metadata": {
    "collapsed": false,
    "pycharm": {
     "name": "#%%\n"
    }
   }
  },
  {
   "cell_type": "code",
   "execution_count": 5,
   "outputs": [],
   "source": [],
   "metadata": {
    "collapsed": false,
    "pycharm": {
     "name": "#%%\n"
    }
   }
  }
 ],
 "metadata": {
  "kernelspec": {
   "display_name": "Python 3",
   "language": "python",
   "name": "python3"
  },
  "language_info": {
   "codemirror_mode": {
    "name": "ipython",
    "version": 2
   },
   "file_extension": ".py",
   "mimetype": "text/x-python",
   "name": "python",
   "nbconvert_exporter": "python",
   "pygments_lexer": "ipython2",
   "version": "2.7.6"
  }
 },
 "nbformat": 4,
 "nbformat_minor": 0
}